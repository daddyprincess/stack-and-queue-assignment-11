{
 "cells": [
  {
   "cell_type": "markdown",
   "id": "d091eba5-513b-4a20-ab9b-ad718e88d713",
   "metadata": {},
   "source": [
    "## 1.Make the String Great"
   ]
  },
  {
   "cell_type": "code",
   "execution_count": 6,
   "id": "b6393907-1f22-43cd-8dac-a9d4daa2d57f",
   "metadata": {},
   "outputs": [
    {
     "name": "stdout",
     "output_type": "stream",
     "text": [
      "leetcode\n",
      "\n",
      "s\n"
     ]
    }
   ],
   "source": [
    "def make_good(s):\n",
    "    stack = []\n",
    "\n",
    "    for char in s:\n",
    "        if stack and abs(ord(char) - ord(stack[-1])) == 32:\n",
    "            stack.pop()\n",
    "        else:\n",
    "            stack.append(char)\n",
    "\n",
    "    return \"\".join(stack)\n",
    "\n",
    "\n",
    "# Test cases\n",
    "print(make_good(\"leEeetcode\"))  \n",
    "print(make_good(\"\"))     \n",
    "print(make_good(\"s\"))           "
   ]
  },
  {
   "cell_type": "code",
   "execution_count": null,
   "id": "682ff84c-c137-4177-b22f-3e87deee8f79",
   "metadata": {},
   "outputs": [],
   "source": [
    "To make the given string \"good,\" we need to remove adjacent characters that are either the same letter in\n",
    "different cases (e.g., 'a' and 'A') or the same letter in the same case.\n",
    "\n",
    "We can use a stack to keep track of the characters in the string while iterating through it. Whenever we\n",
    "encounter a character that can be removed, we pop the character from the stack. Otherwise, we push the \n",
    "character onto the stack.\n",
    "\n",
    "Here's the step-by-step algorithm:\n",
    "\n",
    "1.Initialize an empty stack.\n",
    "2.Iterate through each character in the input string:\n",
    "    a. If the stack is not empty and the current character can be removed pop the top character from the\n",
    "     stack.\n",
    "    b.Otherwise, push the current character onto the stack.\n",
    "3.After the iteration, the stack will contain the characters that form the \"good\" string.\n",
    "4.Convert the stack into a string and return the result."
   ]
  },
  {
   "cell_type": "markdown",
   "id": "baacb319-c4cb-470e-9705-32563cbd7eb6",
   "metadata": {},
   "source": [
    "## 2.Remove all adjacent duplicates in a String"
   ]
  },
  {
   "cell_type": "code",
   "execution_count": 7,
   "id": "7d35a64a-d91e-4710-b04d-a099c5ba9677",
   "metadata": {},
   "outputs": [
    {
     "name": "stdout",
     "output_type": "stream",
     "text": [
      "ca\n",
      "ay\n"
     ]
    }
   ],
   "source": [
    "def remove_adjacent_duplicates(s):\n",
    "    stack = []\n",
    "\n",
    "    for char in s:\n",
    "        if stack and char == stack[-1]:\n",
    "            stack.pop()\n",
    "        else:\n",
    "            stack.append(char)\n",
    "\n",
    "    return \"\".join(stack)\n",
    "\n",
    "\n",
    "# Test cases\n",
    "print(remove_adjacent_duplicates(\"abbaca\"))\n",
    "print(remove_adjacent_duplicates(\"azxxzy\"))  "
   ]
  },
  {
   "cell_type": "code",
   "execution_count": null,
   "id": "1cb5176f-bc6d-4ca5-8115-8399a1e8396d",
   "metadata": {},
   "outputs": [],
   "source": [
    "To remove adjacent duplicate letters from the given string, we can use a stack to keep track of the\n",
    "characters while iterating through the string. Whenever we encounter a character that is the same as the top\n",
    "of the stack, we remove both the current character and the top character from the stack. Otherwise, we push \n",
    "the current character onto the stack.\n",
    "\n",
    "Here's the step-by-step algorithm:\n",
    "\n",
    "1.Initialize an empty stack.\n",
    "2.Iterate through each character in the input string:\n",
    "    a. If the stack is not empty and the current character is the same as the top of the stack, pop the top\n",
    "     character from the stack.\n",
    "    b. Otherwise, push the current character onto the stack.\n",
    "3.After the iteration, the stack will contain the characters that form the final string after removing \n",
    " adjacent duplicates.\n",
    "4.Convert the stack into a string and return the result."
   ]
  },
  {
   "cell_type": "markdown",
   "id": "619f0201-581f-4791-8a24-90334c958afa",
   "metadata": {},
   "source": [
    "## 3.Online Stock Span"
   ]
  },
  {
   "cell_type": "code",
   "execution_count": 8,
   "id": "e396241c-0d36-4b6b-b4be-f021cc6b20a8",
   "metadata": {},
   "outputs": [
    {
     "name": "stdout",
     "output_type": "stream",
     "text": [
      "1\n",
      "1\n",
      "1\n",
      "2\n",
      "1\n",
      "4\n",
      "6\n"
     ]
    }
   ],
   "source": [
    "class StockSpanner:\n",
    "    def __init__(self):\n",
    "        self.prices_stack = []  # Stack to store prices and their spans\n",
    "\n",
    "    def next(self, price):\n",
    "        span = 1\n",
    "\n",
    "        # Pop elements from the stack whose price is less than or equal to the current price\n",
    "        while self.prices_stack and price >= self.prices_stack[-1][0]:\n",
    "            span += self.prices_stack.pop()[1]\n",
    "\n",
    "        # Push the current price and its span to the stack\n",
    "        self.prices_stack.append((price, span))\n",
    "\n",
    "        return span\n",
    "\n",
    "\n",
    "# Test case\n",
    "stockSpanner = StockSpanner()\n",
    "print(stockSpanner.next(100))  \n",
    "print(stockSpanner.next(80))  \n",
    "print(stockSpanner.next(60))   \n",
    "print(stockSpanner.next(70))  \n",
    "print(stockSpanner.next(60))   \n",
    "print(stockSpanner.next(75))   \n",
    "print(stockSpanner.next(85))"
   ]
  },
  {
   "cell_type": "code",
   "execution_count": null,
   "id": "4ded5608-ec90-4ca8-b9ea-af4d698b4bc2",
   "metadata": {},
   "outputs": [],
   "source": [
    "To implement the StockSpanner class that calculates the span of a stock's price for the current day, we can\n",
    "use a stack to keep track of the prices and their corresponding spans. The stack will store pairs of prices\n",
    "and their respective spans. When we receive a new price, we will pop elements from the stack until we find a\n",
    "price greater than the current price. The number of popped elements represents the span for the current\n",
    "price."
   ]
  },
  {
   "cell_type": "markdown",
   "id": "d4037319-6429-45b8-8966-511b90b27d27",
   "metadata": {},
   "source": [
    "## 4.Time Needed to buy tickets"
   ]
  },
  {
   "cell_type": "code",
   "execution_count": 9,
   "id": "e2e19719-af54-456b-bad1-49fbdc04d912",
   "metadata": {},
   "outputs": [
    {
     "name": "stdout",
     "output_type": "stream",
     "text": [
      "6\n",
      "8\n"
     ]
    }
   ],
   "source": [
    "def time_to_buy_tickets(tickets, k):\n",
    "    n = len(tickets)\n",
    "    time_taken = 0\n",
    "\n",
    "    while tickets[k] > 0:\n",
    "        for i in range(n):\n",
    "            if tickets[i] > 0:\n",
    "                tickets[i] -= 1\n",
    "                time_taken += 1\n",
    "\n",
    "    return time_taken\n",
    "\n",
    "\n",
    "# Test cases\n",
    "print(time_to_buy_tickets([2, 3, 2], 2))   \n",
    "print(time_to_buy_tickets([5, 1, 1, 1], 0))  "
   ]
  },
  {
   "cell_type": "code",
   "execution_count": null,
   "id": "88d0187f-eabd-4065-99ba-12462eae6912",
   "metadata": {},
   "outputs": [],
   "source": [
    "To calculate the time taken for the person at position k to finish buying tickets, we can simulate the\n",
    "process of ticket buying. We can iterate through the line and keep track of the number of tickets each\n",
    "person has bought and the time it takes for each pass.\n",
    "\n",
    "Here's the step-by-step algorithm to calculate the time taken:\n",
    "\n",
    "1.Initialize a variable time_taken to 0 to keep track of the total time taken.\n",
    "2.Iterate through the line of people until the person at position k has finished buying all their tickets \n",
    " (tickets[k] becomes 0).\n",
    "3.In each pass, iterate through each person in the line and:\n",
    "    a. If the person has more than 0 tickets to buy (tickets[i] > 0), increase their tickets bought count\n",
    "     by 1 and decrement the number of tickets they want to buy by 1.\n",
    "    b. Add 1 to the time_taken for each person that participates in this pass.\n",
    "4.Return the total time_taken after the person at position k has finished buying all their tickets."
   ]
  },
  {
   "cell_type": "markdown",
   "id": "706118b7-5dbd-4c27-b196-d8943879fdec",
   "metadata": {},
   "source": [
    "## 5.Product of the last K Numbers"
   ]
  },
  {
   "cell_type": "code",
   "execution_count": 12,
   "id": "38e9e149-a5bd-4b2c-83a5-d0f36c4e0779",
   "metadata": {},
   "outputs": [
    {
     "name": "stdout",
     "output_type": "stream",
     "text": [
      "0\n",
      "20\n",
      "40\n",
      "8\n"
     ]
    }
   ],
   "source": [
    "class ProductOfNumbers:\n",
    "    def __init__(self):\n",
    "        self.running_product = []\n",
    "        self.zero_positions = []\n",
    "\n",
    "    def add(self, num):\n",
    "        if num == 0:\n",
    "            self.zero_positions.append(len(self.running_product))\n",
    "            self.running_product = []\n",
    "        else:\n",
    "            if self.running_product:\n",
    "                num *= self.running_product[-1]\n",
    "            self.running_product.append(num)\n",
    "\n",
    "    def getProduct(self, k):\n",
    "        last_idx = len(self.running_product) - k\n",
    "        if last_idx >= 0:\n",
    "            if last_idx in self.zero_positions:\n",
    "                return 0\n",
    "            return self.running_product[-1] // self.running_product[last_idx]\n",
    "        return self.running_product[-1]\n",
    "\n",
    "\n",
    "# Test case\n",
    "productOfNumbers = ProductOfNumbers()\n",
    "productOfNumbers.add(3)\n",
    "productOfNumbers.add(0)\n",
    "productOfNumbers.add(2)\n",
    "productOfNumbers.add(5)\n",
    "productOfNumbers.add(4)\n",
    "print(productOfNumbers.getProduct(2))  \n",
    "print(productOfNumbers.getProduct(3))  \n",
    "print(productOfNumbers.getProduct(4))\n",
    "productOfNumbers.add(8)\n",
    "print(productOfNumbers.getProduct(2))"
   ]
  },
  {
   "cell_type": "code",
   "execution_count": null,
   "id": "277297d4-16f0-4eed-8586-662635c2e9b2",
   "metadata": {},
   "outputs": [],
   "source": [
    "To implement the ProductOfNumbers class that accepts a stream of integers and retrieves the product of the\n",
    "last k integers of the stream, we can use a list to keep track of the running product of all the numbers in \n",
    "the stream. Additionally, we can use a separate list to store the positions where 0 appears in the stream.\n",
    "Whenever a 0 is added to the stream, we reset the running product list.\n",
    "\n",
    "Here's the step-by-step algorithm to implement the ProductOfNumbers class:\n",
    "\n",
    "1.Initialize two lists: running_product and zero_positions.\n",
    "    ~running_product will store the running product of all the numbers in the stream.\n",
    "    ~zero_positions will store the positions where 0 appears in the stream.\n",
    "2.When a new integer num is added to the stream:\n",
    "    a. If num is 0, append the position of num to zero_positions and create a new empty list for running_\n",
    "     product.\n",
    "    b. If num is not 0:\n",
    "        ~Calculate the running product of num and the last product in running_product if running_product is\n",
    "         not empty.\n",
    "        ~Append the running product of num to running_product.\n",
    "3.When getProduct(k) is called:\n",
    "    a. If the position of the kth last integer is present in zero_positions, return 0.\n",
    "    b. Otherwise, return the product of the last element in running_product and the element at position\n",
    "       len(running_product) - k - 1 (since the kth last integer starts at position len(running_product) - k\n",
    "       in running_product)."
   ]
  },
  {
   "cell_type": "markdown",
   "id": "132182e6-c493-4065-bde7-86e0ee9b7454",
   "metadata": {},
   "source": [
    "## 6.Largest Rectangle in Histogram"
   ]
  },
  {
   "cell_type": "code",
   "execution_count": 13,
   "id": "427f2b4c-34ea-4be5-9712-4c0f341503ba",
   "metadata": {},
   "outputs": [
    {
     "name": "stdout",
     "output_type": "stream",
     "text": [
      "10\n",
      "4\n"
     ]
    }
   ],
   "source": [
    "def largestRectangleArea(heights):\n",
    "    stack = []\n",
    "    max_area = 0\n",
    "\n",
    "    for i, height in enumerate(heights):\n",
    "        while stack and height < heights[stack[-1]]:\n",
    "            h = heights[stack.pop()]\n",
    "            w = i if not stack else i - stack[-1] - 1\n",
    "            max_area = max(max_area, h * w)\n",
    "        stack.append(i)\n",
    "\n",
    "    while stack:\n",
    "        h = heights[stack.pop()]\n",
    "        w = len(heights) if not stack else len(heights) - stack[-1] - 1\n",
    "        max_area = max(max_area, h * w)\n",
    "\n",
    "    return max_area\n",
    "\n",
    "\n",
    "# Test cases\n",
    "print(largestRectangleArea([2, 1, 5, 6, 2, 3])) \n",
    "print(largestRectangleArea([2, 4]))             "
   ]
  },
  {
   "cell_type": "code",
   "execution_count": null,
   "id": "d6ac55a6-0eb2-45f2-96ec-5e2ca5286855",
   "metadata": {},
   "outputs": [],
   "source": [
    "To find the area of the largest rectangle in the histogram represented by the array of integers heights, we\n",
    "can use the concept of a stack-based approach. The idea is to maintain a stack of indices of the elements\n",
    "in the histogram in ascending order of their heights.\n",
    "\n",
    "Here's the step-by-step algorithm to find the largest rectangle's area:\n",
    "\n",
    "1.Initialize a stack to keep track of the indices of histogram bars in ascending order of their heights.\n",
    "2.Initialize a variable max_area to store the maximum area found so far. Set it to 0 initially.\n",
    "3.Iterate through the heights array from left to right.\n",
    "    a. While the stack is not empty and the current height is less than the height at the index stored in \n",
    "     the top of the stack:\n",
    "        ~Pop the index from the stack, and calculate the area with the height at the popped index.\n",
    "        ~Update max_area if the calculated area is greater than the current max_area.\n",
    "    b. Push the current index into the stack.\n",
    "4.After the iteration, there might be some elements left in the stack.\n",
    "5.While the stack is not empty:\n",
    "    ~Pop the index from the stack, and calculate the area with the height at the popped index.\n",
    "    ~Update max_area if the calculated area is greater than the current max_area.\n",
    "6.Return the max_area as the result."
   ]
  },
  {
   "cell_type": "markdown",
   "id": "1a7f3e5d-d9ac-4015-848c-5ec62a01da5f",
   "metadata": {},
   "source": [
    "## 7.Sliding Window Maximum"
   ]
  },
  {
   "cell_type": "code",
   "execution_count": 15,
   "id": "d2b8d7f9-b9f3-45e1-a748-a8e677797b76",
   "metadata": {},
   "outputs": [
    {
     "name": "stdout",
     "output_type": "stream",
     "text": [
      "[3, 3, 5, 5, 6, 7]\n",
      "[1]\n"
     ]
    }
   ],
   "source": [
    "from collections import deque\n",
    "\n",
    "def maxSlidingWindow(nums, k):\n",
    "    deque_window = deque()\n",
    "    max_window = []\n",
    "\n",
    "    for i, num in enumerate(nums):\n",
    "        while deque_window and nums[deque_window[-1]] < num:\n",
    "            deque_window.pop()\n",
    "\n",
    "        deque_window.append(i)\n",
    "\n",
    "        if i >= k - 1:\n",
    "            max_window.append(nums[deque_window[0]])\n",
    "\n",
    "        if deque_window[0] <= i - k + 1:\n",
    "            deque_window.popleft()\n",
    "\n",
    "    return max_window\n",
    "\n",
    "\n",
    "# Test cases\n",
    "print(maxSlidingWindow([1, 3, -1, -3, 5, 3, 6, 7], 3))\n",
    "print(maxSlidingWindow([1], 1))                      "
   ]
  },
  {
   "cell_type": "code",
   "execution_count": null,
   "id": "40471249-d9a3-4185-b31e-40183b0513fe",
   "metadata": {},
   "outputs": [],
   "source": [
    "To find the maximum sliding window in the array nums with a window size of k, we can use a deque (double-\n",
    "ended queue) to efficiently keep track of the maximum elements in the window. The deque will store indices\n",
    "of elements in the window, and the maximum element in the window will always be at the front of the deque.\n",
    "\n",
    "Here's the step-by-step algorithm to find the max sliding window:\n",
    "\n",
    "1.Initialize an empty deque to store the indices of elements in the window.\n",
    "2.Initialize an empty list max_window to store the maximum elements found so far for each window.\n",
    "3.Iterate through the elements of nums using index i:\n",
    "    a. While the deque is not empty and the element at the back of the deque (indexed by deque[-1]) is less\n",
    "     than the current element at index i, remove the back element from the deque.\n",
    "    c. If the current index i is greater than or equal to k - 1, it means that the window's size is k, and\n",
    "     the maximum element in the window is at the front of the deque (indexed by deque[0]). Append the\n",
    "    maximum element to max_window.\n",
    "    d. If the index at the front of the deque (indexed by deque[0]) is less than or equal to i - k + 1, it \n",
    "     means that the front element is not within the current window anymore, so remove it from the deque.\n",
    "4.Return max_window as the result."
   ]
  },
  {
   "cell_type": "code",
   "execution_count": null,
   "id": "3b8f567d-deb7-4aa1-9bc8-76c4cec181f7",
   "metadata": {},
   "outputs": [],
   "source": [
    "## 8."
   ]
  },
  {
   "cell_type": "code",
   "execution_count": null,
   "id": "52868bad-c8c8-4bf5-b919-8a895a2c2d26",
   "metadata": {},
   "outputs": [],
   "source": [
    "class CircularQueue:\n",
    "    def __init__(self, capacity):\n",
    "        self.capacity = capacity\n",
    "        self.queue = [None] * capacity\n",
    "        self.front = 0\n",
    "        self.rear = -1\n",
    "\n",
    "    def enQueue(self, value):\n",
    "        if (self.rear + 1) % self.capacity == self.front:\n",
    "            return False  # Queue is full\n",
    "        self.rear = (self.rear + 1) % self.capacity\n",
    "        self.queue[self.rear] = value\n",
    "        return True\n",
    "\n",
    "    def deQueue(self):\n",
    "        if self.rear == -1:\n",
    "            return False  # Queue is empty\n",
    "        if self.front == self.rear:\n",
    "            self.front, self.rear = 0, -1\n",
    "        else:\n",
    "            self.front = (self.front + 1) % self.capacity\n",
    "        return True\n",
    "\n",
    "    def Front(self):\n",
    "        return -1 if self.rear == -1 else self.queue[self.front]\n",
    "\n",
    "    def Rear(self):\n",
    "        return -1 if self.rear == -1 else self.queue[self.rear]\n",
    "\n",
    "    def isEmpty(self):\n",
    "        return self.rear == -1\n",
    "\n",
    "\n",
    "# Example usage:\n",
    "cq = CircularQueue(5)\n",
    "cq.enQueue(1)\n",
    "cq.enQueue(2)\n",
    "cq.enQueue(3)\n",
    "print(cq.Front())  # Output: 1\n",
    "print(cq.Rear())   # Output: 3\n",
    "cq.deQueue()\n",
    "print(cq.Front())  # Output: 2\n",
    "print(cq.isEmpty())  # Output: False\n",
    "cq.deQueue()\n",
    "cq.deQueue()\n",
    "print(cq.isEmpty())  # Output: True\n"
   ]
  },
  {
   "cell_type": "code",
   "execution_count": null,
   "id": "8399893d-2e6e-4579-a7f8-2f4872ec92cc",
   "metadata": {},
   "outputs": [],
   "source": []
  },
  {
   "cell_type": "code",
   "execution_count": null,
   "id": "d3f07e49-3535-4dd0-aca2-a6c9c9d61ec2",
   "metadata": {},
   "outputs": [],
   "source": []
  },
  {
   "cell_type": "code",
   "execution_count": null,
   "id": "4965aa52-7f00-4c01-80a1-84341dd0d639",
   "metadata": {},
   "outputs": [],
   "source": []
  },
  {
   "cell_type": "code",
   "execution_count": null,
   "id": "dbe8bc39-943b-4e71-9579-bf3e4db3de8c",
   "metadata": {},
   "outputs": [],
   "source": []
  },
  {
   "cell_type": "code",
   "execution_count": null,
   "id": "1f8bf3e3-bfbf-45ef-909c-e068c1faaeab",
   "metadata": {},
   "outputs": [],
   "source": []
  },
  {
   "cell_type": "code",
   "execution_count": null,
   "id": "f0f40c35-bade-4cd3-be34-564af91ef3e3",
   "metadata": {},
   "outputs": [],
   "source": []
  },
  {
   "cell_type": "code",
   "execution_count": null,
   "id": "07b28ddc-ac73-4ced-b155-fe4b36381b27",
   "metadata": {},
   "outputs": [],
   "source": []
  }
 ],
 "metadata": {
  "kernelspec": {
   "display_name": "Python 3 (ipykernel)",
   "language": "python",
   "name": "python3"
  },
  "language_info": {
   "codemirror_mode": {
    "name": "ipython",
    "version": 3
   },
   "file_extension": ".py",
   "mimetype": "text/x-python",
   "name": "python",
   "nbconvert_exporter": "python",
   "pygments_lexer": "ipython3",
   "version": "3.10.8"
  }
 },
 "nbformat": 4,
 "nbformat_minor": 5
}
